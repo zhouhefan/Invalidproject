{
 "cells": [
  {
   "cell_type": "code",
   "execution_count": 3,
   "id": "ecc062c3-263c-4277-8048-0b7d51dfde93",
   "metadata": {},
   "outputs": [],
   "source": [
    "s = 'hello'"
   ]
  },
  {
   "cell_type": "code",
   "execution_count": 4,
   "id": "eea3fe3d-052d-4930-8925-98e736217905",
   "metadata": {},
   "outputs": [
    {
     "data": {
      "text/plain": [
       "'h'"
      ]
     },
     "execution_count": 4,
     "metadata": {},
     "output_type": "execute_result"
    }
   ],
   "source": [
    "s[0]"
   ]
  },
  {
   "cell_type": "code",
   "execution_count": 7,
   "id": "a235b9a8-9953-41e8-bcba-16670cb9447c",
   "metadata": {},
   "outputs": [],
   "source": [
    "s = 'Hello'"
   ]
  },
  {
   "cell_type": "code",
   "execution_count": 9,
   "id": "61e0b16a-d570-4c5c-a720-06fdb295e30d",
   "metadata": {},
   "outputs": [
    {
     "data": {
      "text/plain": [
       "'HELLO'"
      ]
     },
     "execution_count": 9,
     "metadata": {},
     "output_type": "execute_result"
    }
   ],
   "source": [
    "s.upper()"
   ]
  },
  {
   "cell_type": "code",
   "execution_count": 10,
   "id": "ff26202e-ad21-4039-b299-ccef651207d9",
   "metadata": {},
   "outputs": [
    {
     "data": {
      "text/plain": [
       "'Hello'"
      ]
     },
     "execution_count": 10,
     "metadata": {},
     "output_type": "execute_result"
    }
   ],
   "source": [
    "s"
   ]
  },
  {
   "cell_type": "code",
   "execution_count": 11,
   "id": "e9739872-13c9-47fd-bbab-78b2bdebde17",
   "metadata": {},
   "outputs": [],
   "source": [
    "s = s.upper()"
   ]
  },
  {
   "cell_type": "code",
   "execution_count": 13,
   "id": "3ac9a63f-6ebf-4c43-a7b0-7fbefa200c3a",
   "metadata": {},
   "outputs": [],
   "source": [
    "long_string = '''hello\n",
    "hello again\n",
    "hello\n",
    "'''"
   ]
  },
  {
   "cell_type": "code",
   "execution_count": 14,
   "id": "25f5899b-bc64-4eb9-b7ca-3560e82d21c9",
   "metadata": {},
   "outputs": [
    {
     "data": {
      "text/plain": [
       "'hello\\nhello again\\nhello\\n'"
      ]
     },
     "execution_count": 14,
     "metadata": {},
     "output_type": "execute_result"
    }
   ],
   "source": [
    "long_string"
   ]
  },
  {
   "cell_type": "code",
   "execution_count": 16,
   "id": "827fd063-dca4-4e27-9c99-17937106776e",
   "metadata": {},
   "outputs": [
    {
     "data": {
      "text/plain": [
       "10"
      ]
     },
     "execution_count": 16,
     "metadata": {},
     "output_type": "execute_result"
    }
   ],
   "source": [
    "(1+2+3\n",
    "+4)"
   ]
  },
  {
   "cell_type": "code",
   "execution_count": 18,
   "id": "d6c3ad48-fa11-40b2-b85e-d934574f8518",
   "metadata": {},
   "outputs": [
    {
     "name": "stdout",
     "output_type": "stream",
     "text": [
      "hello\n",
      "world\ti am jonny\n"
     ]
    }
   ],
   "source": [
    "print('hello\\nworld\\ti am jonny')"
   ]
  },
  {
   "cell_type": "code",
   "execution_count": 19,
   "id": "2fb4b728-4a23-4203-aa48-1ef52ae10e7a",
   "metadata": {},
   "outputs": [
    {
     "name": "stdout",
     "output_type": "stream",
     "text": [
      "path:c:\\documents\n"
     ]
    }
   ],
   "source": [
    "print('path:c:\\\\documents')"
   ]
  },
  {
   "cell_type": "code",
   "execution_count": 23,
   "id": "4960861d-fd83-4869-a6e9-25e63ea251e3",
   "metadata": {},
   "outputs": [
    {
     "name": "stdout",
     "output_type": "stream",
     "text": [
      "you must input \"c:\tdocuments\" for \"c:\\documents\"\n"
     ]
    }
   ],
   "source": [
    "print('you must input \"c:\\\\documents\" for \"c:\\\\documents\"')"
   ]
  },
  {
   "cell_type": "code",
   "execution_count": 24,
   "id": "c3abc61b-62e8-4c31-8562-fe515cfb8360",
   "metadata": {},
   "outputs": [],
   "source": [
    "my_list = [0,1,2,3,4,5]"
   ]
  },
  {
   "cell_type": "code",
   "execution_count": 25,
   "id": "cccd769d-4278-4042-9c1c-5f83500e1833",
   "metadata": {},
   "outputs": [
    {
     "data": {
      "text/plain": [
       "[0, 1, 2, 3, 4, 5]"
      ]
     },
     "execution_count": 25,
     "metadata": {},
     "output_type": "execute_result"
    }
   ],
   "source": [
    "my_list"
   ]
  },
  {
   "cell_type": "code",
   "execution_count": 27,
   "id": "e553263f-d656-40cb-b1f2-d5883bc43e04",
   "metadata": {},
   "outputs": [
    {
     "data": {
      "text/plain": [
       "5"
      ]
     },
     "execution_count": 27,
     "metadata": {},
     "output_type": "execute_result"
    }
   ],
   "source": [
    "my_list[-1]"
   ]
  },
  {
   "cell_type": "code",
   "execution_count": 28,
   "id": "94ef135e-43ae-4d9b-a65a-cd2e89145a09",
   "metadata": {},
   "outputs": [],
   "source": [
    "my_list[0] = 100"
   ]
  },
  {
   "cell_type": "code",
   "execution_count": 30,
   "id": "1b3dc520-a352-40cc-b7ee-73c5a805e2ce",
   "metadata": {},
   "outputs": [
    {
     "data": {
      "text/plain": [
       "[100, 1, 2, 3, 4, 5]"
      ]
     },
     "execution_count": 30,
     "metadata": {},
     "output_type": "execute_result"
    }
   ],
   "source": [
    "my_list"
   ]
  },
  {
   "cell_type": "code",
   "execution_count": 33,
   "id": "a3975f0a-170e-4a1a-9361-7a39514e62f3",
   "metadata": {},
   "outputs": [],
   "source": [
    "my_list[2] = 'hello'"
   ]
  },
  {
   "cell_type": "code",
   "execution_count": 34,
   "id": "34b68316-5edd-4311-b241-44714b87d0f8",
   "metadata": {},
   "outputs": [
    {
     "data": {
      "text/plain": [
       "[100, 1, 'hello', 3, 4, 5]"
      ]
     },
     "execution_count": 34,
     "metadata": {},
     "output_type": "execute_result"
    }
   ],
   "source": [
    "my_list"
   ]
  },
  {
   "cell_type": "code",
   "execution_count": 36,
   "id": "27161738-7dce-473e-9cff-9d81000dbb09",
   "metadata": {},
   "outputs": [
    {
     "data": {
      "text/plain": [
       "[100, 1, [7, 8, 9], 3, 4, 5]"
      ]
     },
     "execution_count": 36,
     "metadata": {},
     "output_type": "execute_result"
    }
   ],
   "source": [
    "my_list[2] = [7,8,9]\n",
    "my_list"
   ]
  },
  {
   "cell_type": "code",
   "execution_count": 37,
   "id": "d7fb02a4-d4c7-41c7-b3d1-7c1fec133bca",
   "metadata": {},
   "outputs": [
    {
     "data": {
      "text/plain": [
       "8"
      ]
     },
     "execution_count": 37,
     "metadata": {},
     "output_type": "execute_result"
    }
   ],
   "source": [
    "my_list[2][1]"
   ]
  },
  {
   "cell_type": "code",
   "execution_count": 38,
   "id": "36e53532-c494-4b3b-a810-f748d4d9e7ae",
   "metadata": {},
   "outputs": [
    {
     "data": {
      "text/plain": [
       "[1, 2, 3, 4]"
      ]
     },
     "execution_count": 38,
     "metadata": {},
     "output_type": "execute_result"
    }
   ],
   "source": [
    "my_list = [0,1,2,3,4,5]\n",
    "my_list[1:5]"
   ]
  },
  {
   "cell_type": "code",
   "execution_count": 39,
   "id": "4a586d79-01a1-40bc-96de-382c4d1892f3",
   "metadata": {},
   "outputs": [
    {
     "data": {
      "text/plain": [
       "[1, 2, 3, 4, 5]"
      ]
     },
     "execution_count": 39,
     "metadata": {},
     "output_type": "execute_result"
    }
   ],
   "source": [
    "my_list[1:]"
   ]
  },
  {
   "cell_type": "code",
   "execution_count": 40,
   "id": "b2f1b9c5-0c88-481a-bf92-6fe56714e386",
   "metadata": {},
   "outputs": [
    {
     "data": {
      "text/plain": [
       "[0, 1, 2, 3, 4, 5]"
      ]
     },
     "execution_count": 40,
     "metadata": {},
     "output_type": "execute_result"
    }
   ],
   "source": [
    "my_list[0:6]"
   ]
  },
  {
   "cell_type": "code",
   "execution_count": 41,
   "id": "011380d4-dfbd-448a-80e6-a7c8d15ce5a3",
   "metadata": {},
   "outputs": [
    {
     "data": {
      "text/plain": [
       "[0, 2, 4]"
      ]
     },
     "execution_count": 41,
     "metadata": {},
     "output_type": "execute_result"
    }
   ],
   "source": [
    "my_list[0:6:2]"
   ]
  },
  {
   "cell_type": "code",
   "execution_count": 43,
   "id": "0110f8df-cefe-475c-a42f-76af37f4234e",
   "metadata": {},
   "outputs": [
    {
     "data": {
      "text/plain": [
       "[5, 4, 3, 2, 1, 0]"
      ]
     },
     "execution_count": 43,
     "metadata": {},
     "output_type": "execute_result"
    }
   ],
   "source": [
    "my_list[5::-1]"
   ]
  },
  {
   "cell_type": "code",
   "execution_count": 45,
   "id": "6d541410-4d15-4e5a-98f4-d841b1c2f12b",
   "metadata": {},
   "outputs": [
    {
     "data": {
      "text/plain": [
       "[]"
      ]
     },
     "execution_count": 45,
     "metadata": {},
     "output_type": "execute_result"
    }
   ],
   "source": [
    "my_list[5:-1]"
   ]
  },
  {
   "cell_type": "code",
   "execution_count": 46,
   "id": "198fdaa5-0b3f-4d3e-8a13-ad07c8595358",
   "metadata": {},
   "outputs": [
    {
     "data": {
      "text/plain": [
       "[5, 4, 3, 2, 1, 0]"
      ]
     },
     "execution_count": 46,
     "metadata": {},
     "output_type": "execute_result"
    }
   ],
   "source": [
    "my_list[-1::-1]"
   ]
  },
  {
   "cell_type": "code",
   "execution_count": 47,
   "id": "4ff37ac6-c381-494f-9443-e52b72c68307",
   "metadata": {},
   "outputs": [],
   "source": [
    "my_list = []"
   ]
  },
  {
   "cell_type": "code",
   "execution_count": 48,
   "id": "fafb8f25-3271-4b8f-8c35-b79282eae608",
   "metadata": {},
   "outputs": [],
   "source": [
    "my_list = list()"
   ]
  },
  {
   "cell_type": "code",
   "execution_count": 51,
   "id": "5f664b00-9e3d-49b9-b803-8761f447af47",
   "metadata": {},
   "outputs": [
    {
     "data": {
      "text/plain": [
       "[1, 2, 3, 4, 5]"
      ]
     },
     "execution_count": 51,
     "metadata": {},
     "output_type": "execute_result"
    }
   ],
   "source": [
    "[1, 2, 3] + [4, 5]"
   ]
  },
  {
   "cell_type": "code",
   "execution_count": 52,
   "id": "4d1cab1e-503b-4061-a045-0da8b1c91848",
   "metadata": {},
   "outputs": [
    {
     "data": {
      "text/plain": [
       "[1, 1, 1, 1, 1]"
      ]
     },
     "execution_count": 52,
     "metadata": {},
     "output_type": "execute_result"
    }
   ],
   "source": [
    "[1]*5"
   ]
  },
  {
   "cell_type": "code",
   "execution_count": 1,
   "id": "74d445bb-3a14-442c-8a3a-c78bfa0f75d6",
   "metadata": {},
   "outputs": [],
   "source": [
    "alist = list()\n",
    "x = 0\n",
    "while x < 10:\n",
    "    alist.append(x)\n",
    "    x = x + 1"
   ]
  },
  {
   "cell_type": "code",
   "execution_count": 2,
   "id": "6dcb99d3-7ab6-4fb6-97d3-7ed1ba22c4bb",
   "metadata": {},
   "outputs": [
    {
     "data": {
      "text/plain": [
       "[0, 1, 2, 3, 4, 5, 6, 7, 8, 9]"
      ]
     },
     "execution_count": 2,
     "metadata": {},
     "output_type": "execute_result"
    }
   ],
   "source": [
    "alist"
   ]
  },
  {
   "cell_type": "code",
   "execution_count": 3,
   "id": "6c687c8f-0ef5-41d4-b855-cbd6047cf3f6",
   "metadata": {},
   "outputs": [],
   "source": [
    "alist = list('hello')"
   ]
  },
  {
   "cell_type": "code",
   "execution_count": 4,
   "id": "be94d995-bd9b-4954-810e-128a0b9f62be",
   "metadata": {},
   "outputs": [
    {
     "data": {
      "text/plain": [
       "['h', 'e', 'l', 'l', 'o']"
      ]
     },
     "execution_count": 4,
     "metadata": {},
     "output_type": "execute_result"
    }
   ],
   "source": [
    "alist"
   ]
  },
  {
   "cell_type": "code",
   "execution_count": 5,
   "id": "6db7f2fd-06c3-4f48-928e-629a3b1a5774",
   "metadata": {},
   "outputs": [
    {
     "data": {
      "text/plain": [
       "'h*e*l*l*o'"
      ]
     },
     "execution_count": 5,
     "metadata": {},
     "output_type": "execute_result"
    }
   ],
   "source": [
    "'*'.join(alist)"
   ]
  },
  {
   "cell_type": "code",
   "execution_count": 6,
   "id": "6eeb75ee-4814-4d4a-9984-0b305bff7b6d",
   "metadata": {},
   "outputs": [
    {
     "data": {
      "text/plain": [
       "'hello'"
      ]
     },
     "execution_count": 6,
     "metadata": {},
     "output_type": "execute_result"
    }
   ],
   "source": [
    "''.join(alist)"
   ]
  },
  {
   "cell_type": "code",
   "execution_count": 7,
   "id": "ace4cfa8-50e6-469e-83df-bc7c6470f976",
   "metadata": {},
   "outputs": [
    {
     "data": {
      "text/plain": [
       "[0, 1, 2, 3, 4, 5, 6, 7, 8, 9]"
      ]
     },
     "execution_count": 7,
     "metadata": {},
     "output_type": "execute_result"
    }
   ],
   "source": [
    "alist = list(range(0,10))\n",
    "alist"
   ]
  },
  {
   "cell_type": "code",
   "execution_count": 8,
   "id": "3b407295-90c8-494c-9621-d916011760ec",
   "metadata": {},
   "outputs": [
    {
     "name": "stdout",
     "output_type": "stream",
     "text": [
      "0^3 = 0\n",
      "1^3 = 1\n",
      "2^3 = 8\n",
      "3^3 = 27\n",
      "4^3 = 64\n",
      "5^3 = 125\n",
      "6^3 = 216\n",
      "7^3 = 343\n",
      "8^3 = 512\n",
      "9^3 = 729\n"
     ]
    }
   ],
   "source": [
    "for number in range(0,10):\n",
    "    print(f'{number}^3 = {number**3}')"
   ]
  },
  {
   "cell_type": "code",
   "execution_count": 16,
   "id": "e18582e8-e8b1-4dc0-969d-fbecfc3bebe3",
   "metadata": {},
   "outputs": [
    {
     "name": "stdout",
     "output_type": "stream",
     "text": [
      "          *\n",
      "         ***\n",
      "        *****\n",
      "       *******\n",
      "      *********\n",
      "     ***********\n",
      "    *************\n",
      "   ***************\n",
      "  *****************\n",
      " *******************\n"
     ]
    }
   ],
   "source": [
    "for i in range(0,10):\n",
    "    print(' ' * (10-i-1),(2*i+1) * '*')"
   ]
  },
  {
   "cell_type": "code",
   "execution_count": 23,
   "id": "e568a3e5-39b5-4d44-a107-4c70fcd612ae",
   "metadata": {},
   "outputs": [
    {
     "name": "stdout",
     "output_type": "stream",
     "text": [
      "1*1=1\t1*2=2\t1*3=3\t1*4=4\t1*5=5\t1*6=6\t1*7=7\t1*8=8\t1*9=9\t \n",
      "\t2*2=4\t2*3=6\t2*4=8\t2*5=10\t2*6=12\t2*7=14\t2*8=16\t2*9=18\t \n",
      "\t\t3*3=9\t3*4=12\t3*5=15\t3*6=18\t3*7=21\t3*8=24\t3*9=27\t \n",
      "\t\t\t4*4=16\t4*5=20\t4*6=24\t4*7=28\t4*8=32\t4*9=36\t \n",
      "\t\t\t\t5*5=25\t5*6=30\t5*7=35\t5*8=40\t5*9=45\t \n",
      "\t\t\t\t\t6*6=36\t6*7=42\t6*8=48\t6*9=54\t \n",
      "\t\t\t\t\t\t7*7=49\t7*8=56\t7*9=63\t \n",
      "\t\t\t\t\t\t\t8*8=64\t8*9=72\t \n",
      "\t\t\t\t\t\t\t\t9*9=81\t \n"
     ]
    }
   ],
   "source": [
    "for x in range(1,10):\n",
    "    for y in range(1,10):\n",
    "        if x <= y :\n",
    "            print(f'{x}*{y}={x*y}',end = '\\t')\n",
    "        else:\n",
    "            print('',end = '\\t')\n",
    "    print(' ')"
   ]
  },
  {
   "cell_type": "code",
   "execution_count": 24,
   "id": "52784496-5a8d-42e9-a9f9-5153761219f4",
   "metadata": {},
   "outputs": [
    {
     "data": {
      "text/plain": [
       "True"
      ]
     },
     "execution_count": 24,
     "metadata": {},
     "output_type": "execute_result"
    }
   ],
   "source": [
    "4 in [1, 2, 3, 4]"
   ]
  },
  {
   "cell_type": "code",
   "execution_count": 26,
   "id": "a01bf6be-34a5-422f-872e-ac6d11308362",
   "metadata": {},
   "outputs": [
    {
     "name": "stdin",
     "output_type": "stream",
     "text": [
      "please input an alphabet:  A\n"
     ]
    },
    {
     "name": "stdout",
     "output_type": "stream",
     "text": [
      "not vowel\n"
     ]
    }
   ],
   "source": [
    "ch = input('please input an alphabet: ')\n",
    "if ch in 'aeiou':\n",
    "    print('vowel')\n",
    "else:\n",
    "    print('not vowel')"
   ]
  },
  {
   "cell_type": "code",
   "execution_count": 28,
   "id": "5cf0d4e0-5cd7-42ed-bd5a-edb4925db0b3",
   "metadata": {},
   "outputs": [],
   "source": [
    "b = [1, 2, 3]"
   ]
  },
  {
   "cell_type": "code",
   "execution_count": 29,
   "id": "ec4572b3-6c00-4041-a14e-58bb55348492",
   "metadata": {},
   "outputs": [
    {
     "data": {
      "text/plain": [
       "1"
      ]
     },
     "execution_count": 29,
     "metadata": {},
     "output_type": "execute_result"
    }
   ],
   "source": [
    "b[0]"
   ]
  },
  {
   "cell_type": "code",
   "execution_count": 30,
   "id": "97261a64-9b36-499e-8bae-c453b45b6383",
   "metadata": {},
   "outputs": [],
   "source": [
    "b[0] = 100"
   ]
  },
  {
   "cell_type": "code",
   "execution_count": 31,
   "id": "2952c8cc-8067-405e-b48a-f750769703cf",
   "metadata": {},
   "outputs": [
    {
     "data": {
      "text/plain": [
       "[100, 2, 3]"
      ]
     },
     "execution_count": 31,
     "metadata": {},
     "output_type": "execute_result"
    }
   ],
   "source": [
    "b"
   ]
  },
  {
   "cell_type": "code",
   "execution_count": 32,
   "id": "df7af366-925c-46f9-808d-4ee680fc732e",
   "metadata": {},
   "outputs": [
    {
     "data": {
      "text/plain": [
       "[100, 2, 3]"
      ]
     },
     "execution_count": 32,
     "metadata": {},
     "output_type": "execute_result"
    }
   ],
   "source": [
    "a = [1, 2, 3]\n",
    "b = a\n",
    "b[0] = 100\n",
    "a"
   ]
  },
  {
   "cell_type": "code",
   "execution_count": 33,
   "id": "9d3c94e8-e2ef-4815-8c73-f849f634d769",
   "metadata": {},
   "outputs": [
    {
     "data": {
      "text/plain": [
       "[1, 2, 3]"
      ]
     },
     "execution_count": 33,
     "metadata": {},
     "output_type": "execute_result"
    }
   ],
   "source": [
    "a = [1, 2, 3]\n",
    "b = a.copy()\n",
    "b[0] = 100\n",
    "a"
   ]
  },
  {
   "cell_type": "code",
   "execution_count": 34,
   "id": "68a8914e-c392-43e1-ad18-6ce534431229",
   "metadata": {},
   "outputs": [
    {
     "name": "stdout",
     "output_type": "stream",
     "text": [
      "[1, 2, [0, 4]]\n",
      "[1, 2, [0, 4]]\n"
     ]
    }
   ],
   "source": [
    "a = [1, 2, [3, 4]]\n",
    "b = a.copy()\n",
    "b[2][0] = 0\n",
    "print(a)\n",
    "print(b)"
   ]
  },
  {
   "cell_type": "code",
   "execution_count": 39,
   "id": "0547264f-7a98-4787-93c8-ff43360cd447",
   "metadata": {},
   "outputs": [
    {
     "ename": "NameError",
     "evalue": "name 'deepcopy' is not defined",
     "output_type": "error",
     "traceback": [
      "\u001b[1;31m---------------------------------------------------------------------------\u001b[0m",
      "\u001b[1;31mNameError\u001b[0m                                 Traceback (most recent call last)",
      "Cell \u001b[1;32mIn[39], line 2\u001b[0m\n\u001b[0;32m      1\u001b[0m a \u001b[38;5;241m=\u001b[39m [\u001b[38;5;241m1\u001b[39m, \u001b[38;5;241m2\u001b[39m, [\u001b[38;5;241m3\u001b[39m, \u001b[38;5;241m4\u001b[39m]]\n\u001b[1;32m----> 2\u001b[0m b \u001b[38;5;241m=\u001b[39m \u001b[43mdeepcopy\u001b[49m(a)\n\u001b[0;32m      3\u001b[0m b[\u001b[38;5;241m2\u001b[39m][\u001b[38;5;241m0\u001b[39m] \u001b[38;5;241m=\u001b[39m \u001b[38;5;241m0\u001b[39m\n\u001b[0;32m      4\u001b[0m \u001b[38;5;28mprint\u001b[39m(a)\n",
      "\u001b[1;31mNameError\u001b[0m: name 'deepcopy' is not defined"
     ]
    }
   ],
   "source": [
    "a = [1, 2, [3, 4]]\n",
    "b = deepcopy(a)\n",
    "b[2][0] = 0\n",
    "print(a)\n",
    "print(b)"
   ]
  },
  {
   "cell_type": "code",
   "execution_count": 44,
   "id": "abaab6ed-92e3-4694-a0cd-034db89ad103",
   "metadata": {},
   "outputs": [
    {
     "data": {
      "text/plain": [
       "[1, 2, 3, 4, 5, 6, [7, 8, 9]]"
      ]
     },
     "execution_count": 44,
     "metadata": {},
     "output_type": "execute_result"
    }
   ],
   "source": [
    "a = [1, 2, 3]\n",
    "a.extend([4, 5, 6])\n",
    "a\n",
    "a.append([7, 8, 9])\n",
    "a"
   ]
  },
  {
   "cell_type": "code",
   "execution_count": 45,
   "id": "0c45889c-d32a-43c1-ac12-1d07b7b907de",
   "metadata": {},
   "outputs": [
    {
     "data": {
      "text/plain": [
       "1"
      ]
     },
     "execution_count": 45,
     "metadata": {},
     "output_type": "execute_result"
    }
   ],
   "source": [
    "a.count(4)"
   ]
  },
  {
   "cell_type": "code",
   "execution_count": 46,
   "id": "0bea2868-2048-4022-8cd6-afaeb84d058c",
   "metadata": {},
   "outputs": [
    {
     "data": {
      "text/plain": [
       "5"
      ]
     },
     "execution_count": 46,
     "metadata": {},
     "output_type": "execute_result"
    }
   ],
   "source": [
    "a.index(6)"
   ]
  },
  {
   "cell_type": "code",
   "execution_count": 47,
   "id": "d124a139-2520-41c1-9fcc-9e9b693b2c07",
   "metadata": {},
   "outputs": [
    {
     "data": {
      "text/plain": [
       "[9, 8, 7, 6, 5, 4, 3, 2, 1, 0]"
      ]
     },
     "execution_count": 47,
     "metadata": {},
     "output_type": "execute_result"
    }
   ],
   "source": [
    "a = list(range(0,10))\n",
    "a.reverse()\n",
    "a"
   ]
  },
  {
   "cell_type": "code",
   "execution_count": 56,
   "id": "0326f7eb-35fd-42b8-88f9-4b5077c21b5c",
   "metadata": {},
   "outputs": [
    {
     "name": "stdout",
     "output_type": "stream",
     "text": [
      "None\n"
     ]
    },
    {
     "data": {
      "text/plain": [
       "[1, 13, 17, 25, 26, 38, 68, 68, 72, 73]"
      ]
     },
     "execution_count": 56,
     "metadata": {},
     "output_type": "execute_result"
    }
   ],
   "source": [
    "import random as rd\n",
    "a = list()\n",
    "for x in range(0,10):\n",
    "    a.append(rd.randint(0,100))\n",
    "b = a.sort()\n",
    "print(b)\n",
    "sorted(a)"
   ]
  },
  {
   "cell_type": "code",
   "execution_count": 60,
   "id": "5f742541-a613-4d6f-b57d-de37fc193e08",
   "metadata": {},
   "outputs": [
    {
     "name": "stdout",
     "output_type": "stream",
     "text": [
      "97.5 µs ± 2.33 µs per loop (mean ± std. dev. of 7 runs, 10,000 loops each)\n"
     ]
    }
   ],
   "source": [
    "%%timeit\n",
    "a = [None] * 100\n",
    "for i in range(0,100):\n",
    "    a[i] = rd.randint(0,100)\n",
    "a"
   ]
  },
  {
   "cell_type": "code",
   "execution_count": null,
   "id": "b2ffd55a-fa1a-4b11-9841-6a5d015e4adb",
   "metadata": {},
   "outputs": [],
   "source": [
    "month = int(input('please input month: ' ))\n",
    "day = int(input('please input day: '))\n",
    "count = day\n",
    "if month > 1:\n",
    "    count += 31\n",
    "if month > 2:\n",
    "    count += 28\n",
    "if "
   ]
  },
  {
   "cell_type": "code",
   "execution_count": 65,
   "id": "30f3a255-3778-4ed5-b1af-136bb2f0cb6d",
   "metadata": {},
   "outputs": [
    {
     "name": "stdin",
     "output_type": "stream",
     "text": [
      "please input month:  5\n",
      "please input day:  20\n"
     ]
    },
    {
     "name": "stdout",
     "output_type": "stream",
     "text": [
      "This is the 140th day of the year\n"
     ]
    }
   ],
   "source": [
    "month = int(input('please input month: ' ))\n",
    "day = int(input('please input day: '))\n",
    "days_in_month = [31, 28, 31, 30, 31, 30, 31, 31, 30, 31, 30, 31]\n",
    "print(f'This is the {sum(days_in_month[0:month-1])+day}th day of the year')"
   ]
  },
  {
   "cell_type": "code",
   "execution_count": 61,
   "id": "82534c40-825a-4d50-ad00-6911b38b51f2",
   "metadata": {},
   "outputs": [
    {
     "data": {
      "text/plain": [
       "6"
      ]
     },
     "execution_count": 61,
     "metadata": {},
     "output_type": "execute_result"
    }
   ],
   "source": [
    "a = [1, 2, 3]\n",
    "sum(a)"
   ]
  },
  {
   "cell_type": "code",
   "execution_count": 70,
   "id": "d5922d4b-ce20-4e12-bedc-0551ed4e3335",
   "metadata": {},
   "outputs": [
    {
     "name": "stdin",
     "output_type": "stream",
     "text": [
      "input score:  50\n"
     ]
    },
    {
     "name": "stdout",
     "output_type": "stream",
     "text": [
      "Grades:D\n"
     ]
    }
   ],
   "source": [
    "grades = 'E' * 40 + 'D' * 20 + 'C' * 15 + 'b' * 15 + 'A' * 11\n",
    "score = int(input('input score: '))\n",
    "if score < 0 or score >100:\n",
    "    print('error')\n",
    "else:\n",
    "    print(f'Grades:{grades[score]}')"
   ]
  },
  {
   "cell_type": "code",
   "execution_count": 68,
   "id": "76f77738-c47d-4f27-a266-1b14c42f3fa8",
   "metadata": {},
   "outputs": [
    {
     "data": {
      "text/plain": [
       "'EEEEEEEEEEEEEEEEEEEEEEEEEEEEEEEEEEEEEEEEDDDDDDDDDDDDDDDDDDDDCCCCCCCCCCCCCCCbbbbbbbbbbbbbbbAAAAAAAAAAA'"
      ]
     },
     "execution_count": 68,
     "metadata": {},
     "output_type": "execute_result"
    }
   ],
   "source": [
    "grades\n"
   ]
  },
  {
   "cell_type": "code",
   "execution_count": null,
   "id": "e841ce51-66f9-4efb-9d38-323372c2b1fe",
   "metadata": {},
   "outputs": [],
   "source": []
  }
 ],
 "metadata": {
  "kernelspec": {
   "display_name": "Python 3 (ipykernel)",
   "language": "python",
   "name": "python3"
  },
  "language_info": {
   "codemirror_mode": {
    "name": "ipython",
    "version": 3
   },
   "file_extension": ".py",
   "mimetype": "text/x-python",
   "name": "python",
   "nbconvert_exporter": "python",
   "pygments_lexer": "ipython3",
   "version": "3.8.17"
  }
 },
 "nbformat": 4,
 "nbformat_minor": 5
}
